{
 "cells": [
  {
   "cell_type": "code",
   "execution_count": 1,
   "metadata": {
    "collapsed": true
   },
   "outputs": [],
   "source": [
    "import pandas as pd"
   ]
  },
  {
   "cell_type": "code",
   "execution_count": 2,
   "metadata": {
    "collapsed": true
   },
   "outputs": [],
   "source": [
    "def getExpectedReturn(df, price_col_name, annualised=True, annualise_method='sophisticated'):\n",
    "    \"\"\"\n",
    "    Returns the expected return of a security given price data.\n",
    "    \"\"\"\n",
    "\n",
    "    # Calculate returns of prices\n",
    "    returns = df[price_col_name].pct_change(1)\n",
    "    \n",
    "    # Calculate the expected return using the mean method\n",
    "    expected_return_daily = returns.mean()\n",
    "    \n",
    "    if annualised:\n",
    "        if annualise_method == 'sophisticated':\n",
    "            expected_return_annual = ((1 + expected_return_daily) ** 250) - 1\n",
    "        elif annualise_method == 'crude':\n",
    "            # Crude method\n",
    "            expected_return_annual = expected_return_daily * 250\n",
    "\n",
    "        return expected_return_annual\n",
    "    \n",
    "    else:\n",
    "        return expected_return_daily"
   ]
  },
  {
   "cell_type": "code",
   "execution_count": 3,
   "metadata": {
    "collapsed": true
   },
   "outputs": [],
   "source": [
    "sp500 = pd.read_csv(\"../data/sp500_price.csv\")"
   ]
  },
  {
   "cell_type": "code",
   "execution_count": 4,
   "metadata": {},
   "outputs": [
    {
     "data": {
      "text/html": [
       "<div>\n",
       "<style scoped>\n",
       "    .dataframe tbody tr th:only-of-type {\n",
       "        vertical-align: middle;\n",
       "    }\n",
       "\n",
       "    .dataframe tbody tr th {\n",
       "        vertical-align: top;\n",
       "    }\n",
       "\n",
       "    .dataframe thead th {\n",
       "        text-align: right;\n",
       "    }\n",
       "</style>\n",
       "<table border=\"1\" class=\"dataframe\">\n",
       "  <thead>\n",
       "    <tr style=\"text-align: right;\">\n",
       "      <th></th>\n",
       "      <th>Date</th>\n",
       "      <th>sp500</th>\n",
       "    </tr>\n",
       "  </thead>\n",
       "  <tbody>\n",
       "    <tr>\n",
       "      <th>0</th>\n",
       "      <td>01/03/2012 16:00</td>\n",
       "      <td>1277.06</td>\n",
       "    </tr>\n",
       "    <tr>\n",
       "      <th>1</th>\n",
       "      <td>01/04/2012 16:00</td>\n",
       "      <td>1277.30</td>\n",
       "    </tr>\n",
       "    <tr>\n",
       "      <th>2</th>\n",
       "      <td>01/05/2012 16:00</td>\n",
       "      <td>1281.06</td>\n",
       "    </tr>\n",
       "    <tr>\n",
       "      <th>3</th>\n",
       "      <td>01/06/2012 16:00</td>\n",
       "      <td>1277.81</td>\n",
       "    </tr>\n",
       "    <tr>\n",
       "      <th>4</th>\n",
       "      <td>01/09/2012 16:00</td>\n",
       "      <td>1280.70</td>\n",
       "    </tr>\n",
       "  </tbody>\n",
       "</table>\n",
       "</div>"
      ],
      "text/plain": [
       "               Date    sp500\n",
       "0  01/03/2012 16:00  1277.06\n",
       "1  01/04/2012 16:00  1277.30\n",
       "2  01/05/2012 16:00  1281.06\n",
       "3  01/06/2012 16:00  1277.81\n",
       "4  01/09/2012 16:00  1280.70"
      ]
     },
     "execution_count": 4,
     "metadata": {},
     "output_type": "execute_result"
    }
   ],
   "source": [
    "sp500.head()"
   ]
  },
  {
   "cell_type": "code",
   "execution_count": 5,
   "metadata": {},
   "outputs": [
    {
     "data": {
      "text/plain": [
       "0.13854129369128"
      ]
     },
     "execution_count": 5,
     "metadata": {},
     "output_type": "execute_result"
    }
   ],
   "source": [
    "# Annualised Expected Return of the Market (E[r_m]) - sophisticated method\n",
    "getExpectedReturn(df=sp500, price_col_name='sp500')  # remember that the default value for 'annualised' is True"
   ]
  },
  {
   "cell_type": "code",
   "execution_count": 6,
   "metadata": {
    "scrolled": true
   },
   "outputs": [
    {
     "data": {
      "text/plain": [
       "0.1297815509722894"
      ]
     },
     "execution_count": 6,
     "metadata": {},
     "output_type": "execute_result"
    }
   ],
   "source": [
    "# Annualised Expected Return of the Market (E[r_m]) - crude method\n",
    "getExpectedReturn(df=sp500, price_col_name='sp500', annualise_method='crude')"
   ]
  },
  {
   "cell_type": "code",
   "execution_count": 7,
   "metadata": {
    "collapsed": true
   },
   "outputs": [],
   "source": [
    "def CAPM_expected_return(r_f, expected_return_market, beta_j):\n",
    "    \"\"\"\n",
    "    Returns the Expected Return of a security using the CAPM formula.\n",
    "    Can use the function getExpectedReturn() to set the expected_return_market parameter.\n",
    "    \"\"\"\n",
    "    expected_return_capm = r_f + beta_j * (expected_return_market - r_f)\n",
    "\n",
    "    return expected_return_capm"
   ]
  },
  {
   "cell_type": "code",
   "execution_count": 8,
   "metadata": {},
   "outputs": [
    {
     "data": {
      "text/plain": [
       "0.15181346520341482"
      ]
     },
     "execution_count": 8,
     "metadata": {},
     "output_type": "execute_result"
    }
   ],
   "source": [
    "# Use the getExpectedReturn() function inside the CAPM_expected_return() function\n",
    "CAPM_expected_return(\n",
    "    r_f=0.0309,  # being the 10 year yield on US Treasuries, obtained from the FT at the time of recording.\n",
    "    expected_return_market=getExpectedReturn(df=sp500, price_col_name='sp500'),\n",
    "    beta_j=1.1233)  # being the Beta of Alphabet Inc (GOOGL) obtained from the FT at the time of recording.\n",
    "\n",
    "# Note that this gives us the same E[r_GOOGL] = 15.18% estimated manually in the lecture."
   ]
  }
 ],
 "metadata": {
  "kernelspec": {
   "display_name": "Python 3",
   "language": "python",
   "name": "python3"
  },
  "language_info": {
   "codemirror_mode": {
    "name": "ipython",
    "version": 3
   },
   "file_extension": ".py",
   "mimetype": "text/x-python",
   "name": "python",
   "nbconvert_exporter": "python",
   "pygments_lexer": "ipython3",
   "version": "3.6.8"
  }
 },
 "nbformat": 4,
 "nbformat_minor": 2
}
