{
 "cells": [
  {
   "cell_type": "code",
   "execution_count": 1,
   "metadata": {
    "collapsed": true
   },
   "outputs": [],
   "source": [
    "import pandas as pd"
   ]
  },
  {
   "cell_type": "code",
   "execution_count": 2,
   "metadata": {
    "collapsed": true
   },
   "outputs": [],
   "source": [
    "data = pd.read_csv(\"../data/fb_price.csv\")"
   ]
  },
  {
   "cell_type": "code",
   "execution_count": 3,
   "metadata": {
    "collapsed": true
   },
   "outputs": [],
   "source": [
    "# Version 1: Calculates daily Expected Return\n",
    "def getExpectedReturn(df, price_col_name):\n",
    "    \"\"\"\n",
    "    Returns the expected return of a stock given price data.\n",
    "    \"\"\"\n",
    "\n",
    "    # Calculate returns of prices\n",
    "    returns = df[price_col_name].pct_change(1)  # Make sure you don't call this \"return\"!\n",
    "    \n",
    "    # Calculate the expected return using the mean method\n",
    "    expected_return = returns.mean()\n",
    "    \n",
    "    return expected_return"
   ]
  },
  {
   "cell_type": "code",
   "execution_count": 4,
   "metadata": {},
   "outputs": [
    {
     "data": {
      "text/plain": [
       "0.0013494618587500079"
      ]
     },
     "execution_count": 4,
     "metadata": {},
     "output_type": "execute_result"
    }
   ],
   "source": [
    "getExpectedReturn(df=data, price_col_name='Adj Close')"
   ]
  },
  {
   "cell_type": "code",
   "execution_count": 5,
   "metadata": {
    "collapsed": true
   },
   "outputs": [],
   "source": [
    "# Version 2: Calculates Daily and Annualised Expected Returns,\n",
    "# annualising by the 'crude' or 'sophisticated' method.\n",
    "def getExpectedReturn(df, price_col_name, annualised=True, annualise_method='sophisticated'):\n",
    "    \"\"\"\n",
    "    Returns the expected return of a stock given price data.\n",
    "    \"\"\"\n",
    "\n",
    "    # Calculate returns of prices\n",
    "    returns = df[price_col_name].pct_change(1)\n",
    "    \n",
    "    # Calculate the expected return using the mean method\n",
    "    expected_return_daily = returns.mean()\n",
    "    \n",
    "    if annualised:\n",
    "        if annualise_method == 'sophisticated':\n",
    "            expected_return_annual = ((1 + expected_return_daily) ** 250) - 1\n",
    "        elif annualise_method == 'crude':\n",
    "            # Crude method\n",
    "            expected_return_annual = expected_return_daily * 250\n",
    "\n",
    "        return expected_return_annual\n",
    "    \n",
    "    else:\n",
    "        return expected_return_daily"
   ]
  },
  {
   "cell_type": "code",
   "execution_count": 6,
   "metadata": {},
   "outputs": [
    {
     "data": {
      "text/plain": [
       "0.40093243279785296"
      ]
     },
     "execution_count": 6,
     "metadata": {},
     "output_type": "execute_result"
    }
   ],
   "source": [
    "# Annualised Expected Return (sophisticated method)\n",
    "getExpectedReturn(data, 'Adj Close')"
   ]
  },
  {
   "cell_type": "code",
   "execution_count": 7,
   "metadata": {},
   "outputs": [
    {
     "data": {
      "text/plain": [
       "0.0013494618587500079"
      ]
     },
     "execution_count": 7,
     "metadata": {},
     "output_type": "execute_result"
    }
   ],
   "source": [
    "# Daily expected return\n",
    "getExpectedReturn(data, 'Adj Close', annualised=False)"
   ]
  },
  {
   "cell_type": "code",
   "execution_count": 8,
   "metadata": {},
   "outputs": [
    {
     "data": {
      "text/plain": [
       "0.33736546468750195"
      ]
     },
     "execution_count": 8,
     "metadata": {},
     "output_type": "execute_result"
    }
   ],
   "source": [
    "# Annualised Expected Return (crude method)\n",
    "getExpectedReturn(data, 'Adj Close', annualise_method='crude')"
   ]
  }
 ],
 "metadata": {
  "kernelspec": {
   "display_name": "Python 3",
   "language": "python",
   "name": "python3"
  },
  "language_info": {
   "codemirror_mode": {
    "name": "ipython",
    "version": 3
   },
   "file_extension": ".py",
   "mimetype": "text/x-python",
   "name": "python",
   "nbconvert_exporter": "python",
   "pygments_lexer": "ipython3",
   "version": "3.6.8"
  }
 },
 "nbformat": 4,
 "nbformat_minor": 2
}
