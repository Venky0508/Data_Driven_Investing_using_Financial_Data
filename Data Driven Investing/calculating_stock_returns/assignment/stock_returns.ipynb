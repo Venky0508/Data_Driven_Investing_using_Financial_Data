{
 "cells": [
  {
   "cell_type": "code",
   "execution_count": 1,
   "metadata": {},
   "outputs": [
    {
     "name": "stderr",
     "output_type": "stream",
     "text": [
      "/opt/anaconda3/lib/python3.9/site-packages/scipy/__init__.py:146: UserWarning: A NumPy version >=1.16.5 and <1.23.0 is required for this version of SciPy (detected version 1.26.2\n",
      "  warnings.warn(f\"A NumPy version >={np_minversion} and <{np_maxversion}\"\n"
     ]
    }
   ],
   "source": [
    "import pandas as pd  \n",
    "import matplotlib.pyplot as plt \n",
    "import seaborn as sns  \n",
    "sns.set()  "
   ]
  },
  {
   "cell_type": "code",
   "execution_count": 20,
   "metadata": {},
   "outputs": [],
   "source": [
    "df = pd.read_csv(\"/Users/venkatesh/Documents/test_project_dir/Data Driven Investing/calculating_stock_returns/assignment/AAPL_stock_data.csv\")"
   ]
  },
  {
   "cell_type": "code",
   "execution_count": 21,
   "metadata": {},
   "outputs": [
    {
     "data": {
      "text/html": [
       "<div>\n",
       "<style scoped>\n",
       "    .dataframe tbody tr th:only-of-type {\n",
       "        vertical-align: middle;\n",
       "    }\n",
       "\n",
       "    .dataframe tbody tr th {\n",
       "        vertical-align: top;\n",
       "    }\n",
       "\n",
       "    .dataframe thead th {\n",
       "        text-align: right;\n",
       "    }\n",
       "</style>\n",
       "<table border=\"1\" class=\"dataframe\">\n",
       "  <thead>\n",
       "    <tr style=\"text-align: right;\">\n",
       "      <th></th>\n",
       "      <th>timestamp</th>\n",
       "      <th>open</th>\n",
       "      <th>high</th>\n",
       "      <th>low</th>\n",
       "      <th>close</th>\n",
       "      <th>volume</th>\n",
       "    </tr>\n",
       "  </thead>\n",
       "  <tbody>\n",
       "    <tr>\n",
       "      <th>0</th>\n",
       "      <td>2025-01-03</td>\n",
       "      <td>243.36</td>\n",
       "      <td>244.18</td>\n",
       "      <td>241.8900</td>\n",
       "      <td>243.36</td>\n",
       "      <td>40244114</td>\n",
       "    </tr>\n",
       "    <tr>\n",
       "      <th>1</th>\n",
       "      <td>2025-01-02</td>\n",
       "      <td>248.93</td>\n",
       "      <td>249.10</td>\n",
       "      <td>241.8201</td>\n",
       "      <td>243.85</td>\n",
       "      <td>55740731</td>\n",
       "    </tr>\n",
       "    <tr>\n",
       "      <th>2</th>\n",
       "      <td>2024-12-31</td>\n",
       "      <td>252.44</td>\n",
       "      <td>253.28</td>\n",
       "      <td>249.4300</td>\n",
       "      <td>250.42</td>\n",
       "      <td>39480718</td>\n",
       "    </tr>\n",
       "    <tr>\n",
       "      <th>3</th>\n",
       "      <td>2024-12-30</td>\n",
       "      <td>252.23</td>\n",
       "      <td>253.50</td>\n",
       "      <td>250.7500</td>\n",
       "      <td>252.20</td>\n",
       "      <td>35557542</td>\n",
       "    </tr>\n",
       "    <tr>\n",
       "      <th>4</th>\n",
       "      <td>2024-12-27</td>\n",
       "      <td>257.83</td>\n",
       "      <td>258.70</td>\n",
       "      <td>253.0600</td>\n",
       "      <td>255.59</td>\n",
       "      <td>42355321</td>\n",
       "    </tr>\n",
       "  </tbody>\n",
       "</table>\n",
       "</div>"
      ],
      "text/plain": [
       "    timestamp    open    high       low   close    volume\n",
       "0  2025-01-03  243.36  244.18  241.8900  243.36  40244114\n",
       "1  2025-01-02  248.93  249.10  241.8201  243.85  55740731\n",
       "2  2024-12-31  252.44  253.28  249.4300  250.42  39480718\n",
       "3  2024-12-30  252.23  253.50  250.7500  252.20  35557542\n",
       "4  2024-12-27  257.83  258.70  253.0600  255.59  42355321"
      ]
     },
     "execution_count": 21,
     "metadata": {},
     "output_type": "execute_result"
    }
   ],
   "source": [
    "df.head()"
   ]
  },
  {
   "cell_type": "code",
   "execution_count": 22,
   "metadata": {},
   "outputs": [],
   "source": [
    "df = df[['timestamp', 'close']]"
   ]
  },
  {
   "cell_type": "code",
   "execution_count": 23,
   "metadata": {},
   "outputs": [
    {
     "data": {
      "text/html": [
       "<div>\n",
       "<style scoped>\n",
       "    .dataframe tbody tr th:only-of-type {\n",
       "        vertical-align: middle;\n",
       "    }\n",
       "\n",
       "    .dataframe tbody tr th {\n",
       "        vertical-align: top;\n",
       "    }\n",
       "\n",
       "    .dataframe thead th {\n",
       "        text-align: right;\n",
       "    }\n",
       "</style>\n",
       "<table border=\"1\" class=\"dataframe\">\n",
       "  <thead>\n",
       "    <tr style=\"text-align: right;\">\n",
       "      <th></th>\n",
       "      <th>timestamp</th>\n",
       "      <th>close</th>\n",
       "    </tr>\n",
       "  </thead>\n",
       "  <tbody>\n",
       "    <tr>\n",
       "      <th>0</th>\n",
       "      <td>2025-01-03</td>\n",
       "      <td>243.36</td>\n",
       "    </tr>\n",
       "    <tr>\n",
       "      <th>1</th>\n",
       "      <td>2025-01-02</td>\n",
       "      <td>243.85</td>\n",
       "    </tr>\n",
       "    <tr>\n",
       "      <th>2</th>\n",
       "      <td>2024-12-31</td>\n",
       "      <td>250.42</td>\n",
       "    </tr>\n",
       "    <tr>\n",
       "      <th>3</th>\n",
       "      <td>2024-12-30</td>\n",
       "      <td>252.20</td>\n",
       "    </tr>\n",
       "    <tr>\n",
       "      <th>4</th>\n",
       "      <td>2024-12-27</td>\n",
       "      <td>255.59</td>\n",
       "    </tr>\n",
       "  </tbody>\n",
       "</table>\n",
       "</div>"
      ],
      "text/plain": [
       "    timestamp   close\n",
       "0  2025-01-03  243.36\n",
       "1  2025-01-02  243.85\n",
       "2  2024-12-31  250.42\n",
       "3  2024-12-30  252.20\n",
       "4  2024-12-27  255.59"
      ]
     },
     "execution_count": 23,
     "metadata": {},
     "output_type": "execute_result"
    }
   ],
   "source": [
    "df.head()"
   ]
  },
  {
   "cell_type": "code",
   "execution_count": 24,
   "metadata": {},
   "outputs": [],
   "source": [
    "df.rename(columns={'timestamp' : 'date', 'close' : 'price_t'}, inplace=True)\n",
    "df = df.sort_values(by='date')"
   ]
  },
  {
   "cell_type": "code",
   "execution_count": 25,
   "metadata": {},
   "outputs": [
    {
     "data": {
      "text/html": [
       "<div>\n",
       "<style scoped>\n",
       "    .dataframe tbody tr th:only-of-type {\n",
       "        vertical-align: middle;\n",
       "    }\n",
       "\n",
       "    .dataframe tbody tr th {\n",
       "        vertical-align: top;\n",
       "    }\n",
       "\n",
       "    .dataframe thead th {\n",
       "        text-align: right;\n",
       "    }\n",
       "</style>\n",
       "<table border=\"1\" class=\"dataframe\">\n",
       "  <thead>\n",
       "    <tr style=\"text-align: right;\">\n",
       "      <th></th>\n",
       "      <th>date</th>\n",
       "      <th>price_t</th>\n",
       "    </tr>\n",
       "  </thead>\n",
       "  <tbody>\n",
       "    <tr>\n",
       "      <th>1256</th>\n",
       "      <td>2020-01-07</td>\n",
       "      <td>298.39</td>\n",
       "    </tr>\n",
       "    <tr>\n",
       "      <th>1255</th>\n",
       "      <td>2020-01-08</td>\n",
       "      <td>303.19</td>\n",
       "    </tr>\n",
       "    <tr>\n",
       "      <th>1254</th>\n",
       "      <td>2020-01-09</td>\n",
       "      <td>309.63</td>\n",
       "    </tr>\n",
       "    <tr>\n",
       "      <th>1253</th>\n",
       "      <td>2020-01-10</td>\n",
       "      <td>310.33</td>\n",
       "    </tr>\n",
       "    <tr>\n",
       "      <th>1252</th>\n",
       "      <td>2020-01-13</td>\n",
       "      <td>316.96</td>\n",
       "    </tr>\n",
       "  </tbody>\n",
       "</table>\n",
       "</div>"
      ],
      "text/plain": [
       "            date  price_t\n",
       "1256  2020-01-07   298.39\n",
       "1255  2020-01-08   303.19\n",
       "1254  2020-01-09   309.63\n",
       "1253  2020-01-10   310.33\n",
       "1252  2020-01-13   316.96"
      ]
     },
     "execution_count": 25,
     "metadata": {},
     "output_type": "execute_result"
    }
   ],
   "source": [
    "df.head()"
   ]
  },
  {
   "cell_type": "code",
   "execution_count": 26,
   "metadata": {},
   "outputs": [],
   "source": [
    "df = df.reset_index(drop=True)\n",
    "df['price_t-1'] = df['price_t'].shift(1)"
   ]
  },
  {
   "cell_type": "code",
   "execution_count": 27,
   "metadata": {},
   "outputs": [
    {
     "data": {
      "text/html": [
       "<div>\n",
       "<style scoped>\n",
       "    .dataframe tbody tr th:only-of-type {\n",
       "        vertical-align: middle;\n",
       "    }\n",
       "\n",
       "    .dataframe tbody tr th {\n",
       "        vertical-align: top;\n",
       "    }\n",
       "\n",
       "    .dataframe thead th {\n",
       "        text-align: right;\n",
       "    }\n",
       "</style>\n",
       "<table border=\"1\" class=\"dataframe\">\n",
       "  <thead>\n",
       "    <tr style=\"text-align: right;\">\n",
       "      <th></th>\n",
       "      <th>date</th>\n",
       "      <th>price_t</th>\n",
       "      <th>price_t-1</th>\n",
       "    </tr>\n",
       "  </thead>\n",
       "  <tbody>\n",
       "    <tr>\n",
       "      <th>0</th>\n",
       "      <td>2020-01-07</td>\n",
       "      <td>298.39</td>\n",
       "      <td>NaN</td>\n",
       "    </tr>\n",
       "    <tr>\n",
       "      <th>1</th>\n",
       "      <td>2020-01-08</td>\n",
       "      <td>303.19</td>\n",
       "      <td>298.39</td>\n",
       "    </tr>\n",
       "    <tr>\n",
       "      <th>2</th>\n",
       "      <td>2020-01-09</td>\n",
       "      <td>309.63</td>\n",
       "      <td>303.19</td>\n",
       "    </tr>\n",
       "    <tr>\n",
       "      <th>3</th>\n",
       "      <td>2020-01-10</td>\n",
       "      <td>310.33</td>\n",
       "      <td>309.63</td>\n",
       "    </tr>\n",
       "    <tr>\n",
       "      <th>4</th>\n",
       "      <td>2020-01-13</td>\n",
       "      <td>316.96</td>\n",
       "      <td>310.33</td>\n",
       "    </tr>\n",
       "  </tbody>\n",
       "</table>\n",
       "</div>"
      ],
      "text/plain": [
       "         date  price_t  price_t-1\n",
       "0  2020-01-07   298.39        NaN\n",
       "1  2020-01-08   303.19     298.39\n",
       "2  2020-01-09   309.63     303.19\n",
       "3  2020-01-10   310.33     309.63\n",
       "4  2020-01-13   316.96     310.33"
      ]
     },
     "execution_count": 27,
     "metadata": {},
     "output_type": "execute_result"
    }
   ],
   "source": [
    "df.head()"
   ]
  },
  {
   "cell_type": "code",
   "execution_count": 28,
   "metadata": {},
   "outputs": [],
   "source": [
    "df['returns_manual'] = (df['price_t'] / df['price_t-1']) - 1"
   ]
  },
  {
   "cell_type": "code",
   "execution_count": 29,
   "metadata": {},
   "outputs": [
    {
     "data": {
      "text/html": [
       "<div>\n",
       "<style scoped>\n",
       "    .dataframe tbody tr th:only-of-type {\n",
       "        vertical-align: middle;\n",
       "    }\n",
       "\n",
       "    .dataframe tbody tr th {\n",
       "        vertical-align: top;\n",
       "    }\n",
       "\n",
       "    .dataframe thead th {\n",
       "        text-align: right;\n",
       "    }\n",
       "</style>\n",
       "<table border=\"1\" class=\"dataframe\">\n",
       "  <thead>\n",
       "    <tr style=\"text-align: right;\">\n",
       "      <th></th>\n",
       "      <th>date</th>\n",
       "      <th>price_t</th>\n",
       "      <th>price_t-1</th>\n",
       "      <th>returns_manual</th>\n",
       "    </tr>\n",
       "  </thead>\n",
       "  <tbody>\n",
       "    <tr>\n",
       "      <th>0</th>\n",
       "      <td>2020-01-07</td>\n",
       "      <td>298.39</td>\n",
       "      <td>NaN</td>\n",
       "      <td>NaN</td>\n",
       "    </tr>\n",
       "    <tr>\n",
       "      <th>1</th>\n",
       "      <td>2020-01-08</td>\n",
       "      <td>303.19</td>\n",
       "      <td>298.39</td>\n",
       "      <td>0.016086</td>\n",
       "    </tr>\n",
       "    <tr>\n",
       "      <th>2</th>\n",
       "      <td>2020-01-09</td>\n",
       "      <td>309.63</td>\n",
       "      <td>303.19</td>\n",
       "      <td>0.021241</td>\n",
       "    </tr>\n",
       "    <tr>\n",
       "      <th>3</th>\n",
       "      <td>2020-01-10</td>\n",
       "      <td>310.33</td>\n",
       "      <td>309.63</td>\n",
       "      <td>0.002261</td>\n",
       "    </tr>\n",
       "    <tr>\n",
       "      <th>4</th>\n",
       "      <td>2020-01-13</td>\n",
       "      <td>316.96</td>\n",
       "      <td>310.33</td>\n",
       "      <td>0.021364</td>\n",
       "    </tr>\n",
       "  </tbody>\n",
       "</table>\n",
       "</div>"
      ],
      "text/plain": [
       "         date  price_t  price_t-1  returns_manual\n",
       "0  2020-01-07   298.39        NaN             NaN\n",
       "1  2020-01-08   303.19     298.39        0.016086\n",
       "2  2020-01-09   309.63     303.19        0.021241\n",
       "3  2020-01-10   310.33     309.63        0.002261\n",
       "4  2020-01-13   316.96     310.33        0.021364"
      ]
     },
     "execution_count": 29,
     "metadata": {},
     "output_type": "execute_result"
    }
   ],
   "source": [
    "df.head()"
   ]
  },
  {
   "cell_type": "code",
   "execution_count": 30,
   "metadata": {},
   "outputs": [
    {
     "data": {
      "text/html": [
       "<div>\n",
       "<style scoped>\n",
       "    .dataframe tbody tr th:only-of-type {\n",
       "        vertical-align: middle;\n",
       "    }\n",
       "\n",
       "    .dataframe tbody tr th {\n",
       "        vertical-align: top;\n",
       "    }\n",
       "\n",
       "    .dataframe thead th {\n",
       "        text-align: right;\n",
       "    }\n",
       "</style>\n",
       "<table border=\"1\" class=\"dataframe\">\n",
       "  <thead>\n",
       "    <tr style=\"text-align: right;\">\n",
       "      <th></th>\n",
       "      <th>date</th>\n",
       "      <th>price_t</th>\n",
       "      <th>price_t-1</th>\n",
       "      <th>returns_manual</th>\n",
       "    </tr>\n",
       "  </thead>\n",
       "  <tbody>\n",
       "    <tr>\n",
       "      <th>1252</th>\n",
       "      <td>2024-12-27</td>\n",
       "      <td>255.59</td>\n",
       "      <td>259.02</td>\n",
       "      <td>-0.013242</td>\n",
       "    </tr>\n",
       "    <tr>\n",
       "      <th>1253</th>\n",
       "      <td>2024-12-30</td>\n",
       "      <td>252.20</td>\n",
       "      <td>255.59</td>\n",
       "      <td>-0.013263</td>\n",
       "    </tr>\n",
       "    <tr>\n",
       "      <th>1254</th>\n",
       "      <td>2024-12-31</td>\n",
       "      <td>250.42</td>\n",
       "      <td>252.20</td>\n",
       "      <td>-0.007058</td>\n",
       "    </tr>\n",
       "    <tr>\n",
       "      <th>1255</th>\n",
       "      <td>2025-01-02</td>\n",
       "      <td>243.85</td>\n",
       "      <td>250.42</td>\n",
       "      <td>-0.026236</td>\n",
       "    </tr>\n",
       "    <tr>\n",
       "      <th>1256</th>\n",
       "      <td>2025-01-03</td>\n",
       "      <td>243.36</td>\n",
       "      <td>243.85</td>\n",
       "      <td>-0.002009</td>\n",
       "    </tr>\n",
       "  </tbody>\n",
       "</table>\n",
       "</div>"
      ],
      "text/plain": [
       "            date  price_t  price_t-1  returns_manual\n",
       "1252  2024-12-27   255.59     259.02       -0.013242\n",
       "1253  2024-12-30   252.20     255.59       -0.013263\n",
       "1254  2024-12-31   250.42     252.20       -0.007058\n",
       "1255  2025-01-02   243.85     250.42       -0.026236\n",
       "1256  2025-01-03   243.36     243.85       -0.002009"
      ]
     },
     "execution_count": 30,
     "metadata": {},
     "output_type": "execute_result"
    }
   ],
   "source": [
    "df.tail()"
   ]
  },
  {
   "cell_type": "code",
   "execution_count": 31,
   "metadata": {},
   "outputs": [],
   "source": [
    "df['returns_pct_change_method'] = df['price_t'].pct_change(1)"
   ]
  },
  {
   "cell_type": "code",
   "execution_count": 32,
   "metadata": {},
   "outputs": [
    {
     "data": {
      "text/html": [
       "<div>\n",
       "<style scoped>\n",
       "    .dataframe tbody tr th:only-of-type {\n",
       "        vertical-align: middle;\n",
       "    }\n",
       "\n",
       "    .dataframe tbody tr th {\n",
       "        vertical-align: top;\n",
       "    }\n",
       "\n",
       "    .dataframe thead th {\n",
       "        text-align: right;\n",
       "    }\n",
       "</style>\n",
       "<table border=\"1\" class=\"dataframe\">\n",
       "  <thead>\n",
       "    <tr style=\"text-align: right;\">\n",
       "      <th></th>\n",
       "      <th>date</th>\n",
       "      <th>price_t</th>\n",
       "      <th>price_t-1</th>\n",
       "      <th>returns_manual</th>\n",
       "      <th>returns_pct_change_method</th>\n",
       "    </tr>\n",
       "  </thead>\n",
       "  <tbody>\n",
       "    <tr>\n",
       "      <th>0</th>\n",
       "      <td>2020-01-07</td>\n",
       "      <td>298.39</td>\n",
       "      <td>NaN</td>\n",
       "      <td>NaN</td>\n",
       "      <td>NaN</td>\n",
       "    </tr>\n",
       "    <tr>\n",
       "      <th>1</th>\n",
       "      <td>2020-01-08</td>\n",
       "      <td>303.19</td>\n",
       "      <td>298.39</td>\n",
       "      <td>0.016086</td>\n",
       "      <td>0.016086</td>\n",
       "    </tr>\n",
       "    <tr>\n",
       "      <th>2</th>\n",
       "      <td>2020-01-09</td>\n",
       "      <td>309.63</td>\n",
       "      <td>303.19</td>\n",
       "      <td>0.021241</td>\n",
       "      <td>0.021241</td>\n",
       "    </tr>\n",
       "    <tr>\n",
       "      <th>3</th>\n",
       "      <td>2020-01-10</td>\n",
       "      <td>310.33</td>\n",
       "      <td>309.63</td>\n",
       "      <td>0.002261</td>\n",
       "      <td>0.002261</td>\n",
       "    </tr>\n",
       "    <tr>\n",
       "      <th>4</th>\n",
       "      <td>2020-01-13</td>\n",
       "      <td>316.96</td>\n",
       "      <td>310.33</td>\n",
       "      <td>0.021364</td>\n",
       "      <td>0.021364</td>\n",
       "    </tr>\n",
       "  </tbody>\n",
       "</table>\n",
       "</div>"
      ],
      "text/plain": [
       "         date  price_t  price_t-1  returns_manual  returns_pct_change_method\n",
       "0  2020-01-07   298.39        NaN             NaN                        NaN\n",
       "1  2020-01-08   303.19     298.39        0.016086                   0.016086\n",
       "2  2020-01-09   309.63     303.19        0.021241                   0.021241\n",
       "3  2020-01-10   310.33     309.63        0.002261                   0.002261\n",
       "4  2020-01-13   316.96     310.33        0.021364                   0.021364"
      ]
     },
     "execution_count": 32,
     "metadata": {},
     "output_type": "execute_result"
    }
   ],
   "source": [
    "df.head()"
   ]
  },
  {
   "cell_type": "code",
   "execution_count": 33,
   "metadata": {},
   "outputs": [],
   "source": [
    "df['returns'] = (df['price_t'] / df['price_t'].shift(1)) - 1"
   ]
  },
  {
   "cell_type": "code",
   "execution_count": 34,
   "metadata": {},
   "outputs": [
    {
     "data": {
      "text/html": [
       "<div>\n",
       "<style scoped>\n",
       "    .dataframe tbody tr th:only-of-type {\n",
       "        vertical-align: middle;\n",
       "    }\n",
       "\n",
       "    .dataframe tbody tr th {\n",
       "        vertical-align: top;\n",
       "    }\n",
       "\n",
       "    .dataframe thead th {\n",
       "        text-align: right;\n",
       "    }\n",
       "</style>\n",
       "<table border=\"1\" class=\"dataframe\">\n",
       "  <thead>\n",
       "    <tr style=\"text-align: right;\">\n",
       "      <th></th>\n",
       "      <th>date</th>\n",
       "      <th>price_t</th>\n",
       "      <th>price_t-1</th>\n",
       "      <th>returns_manual</th>\n",
       "      <th>returns_pct_change_method</th>\n",
       "      <th>returns</th>\n",
       "    </tr>\n",
       "  </thead>\n",
       "  <tbody>\n",
       "    <tr>\n",
       "      <th>0</th>\n",
       "      <td>2020-01-07</td>\n",
       "      <td>298.39</td>\n",
       "      <td>NaN</td>\n",
       "      <td>NaN</td>\n",
       "      <td>NaN</td>\n",
       "      <td>NaN</td>\n",
       "    </tr>\n",
       "    <tr>\n",
       "      <th>1</th>\n",
       "      <td>2020-01-08</td>\n",
       "      <td>303.19</td>\n",
       "      <td>298.39</td>\n",
       "      <td>0.016086</td>\n",
       "      <td>0.016086</td>\n",
       "      <td>0.016086</td>\n",
       "    </tr>\n",
       "    <tr>\n",
       "      <th>2</th>\n",
       "      <td>2020-01-09</td>\n",
       "      <td>309.63</td>\n",
       "      <td>303.19</td>\n",
       "      <td>0.021241</td>\n",
       "      <td>0.021241</td>\n",
       "      <td>0.021241</td>\n",
       "    </tr>\n",
       "    <tr>\n",
       "      <th>3</th>\n",
       "      <td>2020-01-10</td>\n",
       "      <td>310.33</td>\n",
       "      <td>309.63</td>\n",
       "      <td>0.002261</td>\n",
       "      <td>0.002261</td>\n",
       "      <td>0.002261</td>\n",
       "    </tr>\n",
       "    <tr>\n",
       "      <th>4</th>\n",
       "      <td>2020-01-13</td>\n",
       "      <td>316.96</td>\n",
       "      <td>310.33</td>\n",
       "      <td>0.021364</td>\n",
       "      <td>0.021364</td>\n",
       "      <td>0.021364</td>\n",
       "    </tr>\n",
       "  </tbody>\n",
       "</table>\n",
       "</div>"
      ],
      "text/plain": [
       "         date  price_t  price_t-1  returns_manual  returns_pct_change_method  \\\n",
       "0  2020-01-07   298.39        NaN             NaN                        NaN   \n",
       "1  2020-01-08   303.19     298.39        0.016086                   0.016086   \n",
       "2  2020-01-09   309.63     303.19        0.021241                   0.021241   \n",
       "3  2020-01-10   310.33     309.63        0.002261                   0.002261   \n",
       "4  2020-01-13   316.96     310.33        0.021364                   0.021364   \n",
       "\n",
       "    returns  \n",
       "0       NaN  \n",
       "1  0.016086  \n",
       "2  0.021241  \n",
       "3  0.002261  \n",
       "4  0.021364  "
      ]
     },
     "execution_count": 34,
     "metadata": {},
     "output_type": "execute_result"
    }
   ],
   "source": [
    "df.head()"
   ]
  },
  {
   "cell_type": "code",
   "execution_count": 35,
   "metadata": {},
   "outputs": [],
   "source": [
    "df.set_index('date', inplace=True)"
   ]
  },
  {
   "cell_type": "code",
   "execution_count": 36,
   "metadata": {},
   "outputs": [
    {
     "data": {
      "text/html": [
       "<div>\n",
       "<style scoped>\n",
       "    .dataframe tbody tr th:only-of-type {\n",
       "        vertical-align: middle;\n",
       "    }\n",
       "\n",
       "    .dataframe tbody tr th {\n",
       "        vertical-align: top;\n",
       "    }\n",
       "\n",
       "    .dataframe thead th {\n",
       "        text-align: right;\n",
       "    }\n",
       "</style>\n",
       "<table border=\"1\" class=\"dataframe\">\n",
       "  <thead>\n",
       "    <tr style=\"text-align: right;\">\n",
       "      <th></th>\n",
       "      <th>price_t</th>\n",
       "      <th>price_t-1</th>\n",
       "      <th>returns_manual</th>\n",
       "      <th>returns_pct_change_method</th>\n",
       "      <th>returns</th>\n",
       "    </tr>\n",
       "    <tr>\n",
       "      <th>date</th>\n",
       "      <th></th>\n",
       "      <th></th>\n",
       "      <th></th>\n",
       "      <th></th>\n",
       "      <th></th>\n",
       "    </tr>\n",
       "  </thead>\n",
       "  <tbody>\n",
       "    <tr>\n",
       "      <th>2020-01-07</th>\n",
       "      <td>298.39</td>\n",
       "      <td>NaN</td>\n",
       "      <td>NaN</td>\n",
       "      <td>NaN</td>\n",
       "      <td>NaN</td>\n",
       "    </tr>\n",
       "    <tr>\n",
       "      <th>2020-01-08</th>\n",
       "      <td>303.19</td>\n",
       "      <td>298.39</td>\n",
       "      <td>0.016086</td>\n",
       "      <td>0.016086</td>\n",
       "      <td>0.016086</td>\n",
       "    </tr>\n",
       "    <tr>\n",
       "      <th>2020-01-09</th>\n",
       "      <td>309.63</td>\n",
       "      <td>303.19</td>\n",
       "      <td>0.021241</td>\n",
       "      <td>0.021241</td>\n",
       "      <td>0.021241</td>\n",
       "    </tr>\n",
       "    <tr>\n",
       "      <th>2020-01-10</th>\n",
       "      <td>310.33</td>\n",
       "      <td>309.63</td>\n",
       "      <td>0.002261</td>\n",
       "      <td>0.002261</td>\n",
       "      <td>0.002261</td>\n",
       "    </tr>\n",
       "    <tr>\n",
       "      <th>2020-01-13</th>\n",
       "      <td>316.96</td>\n",
       "      <td>310.33</td>\n",
       "      <td>0.021364</td>\n",
       "      <td>0.021364</td>\n",
       "      <td>0.021364</td>\n",
       "    </tr>\n",
       "  </tbody>\n",
       "</table>\n",
       "</div>"
      ],
      "text/plain": [
       "            price_t  price_t-1  returns_manual  returns_pct_change_method  \\\n",
       "date                                                                        \n",
       "2020-01-07   298.39        NaN             NaN                        NaN   \n",
       "2020-01-08   303.19     298.39        0.016086                   0.016086   \n",
       "2020-01-09   309.63     303.19        0.021241                   0.021241   \n",
       "2020-01-10   310.33     309.63        0.002261                   0.002261   \n",
       "2020-01-13   316.96     310.33        0.021364                   0.021364   \n",
       "\n",
       "             returns  \n",
       "date                  \n",
       "2020-01-07       NaN  \n",
       "2020-01-08  0.016086  \n",
       "2020-01-09  0.021241  \n",
       "2020-01-10  0.002261  \n",
       "2020-01-13  0.021364  "
      ]
     },
     "execution_count": 36,
     "metadata": {},
     "output_type": "execute_result"
    }
   ],
   "source": [
    "df.head()"
   ]
  },
  {
   "cell_type": "code",
   "execution_count": 37,
   "metadata": {},
   "outputs": [
    {
     "data": {
      "text/plain": [
       "<AxesSubplot:xlabel='date'>"
      ]
     },
     "execution_count": 37,
     "metadata": {},
     "output_type": "execute_result"
    },
    {
     "data": {
      "image/png": "[encoded data removed]",
      "text/plain": [
       "<Figure size 1200x800 with 1 Axes>"
      ]
     },
     "metadata": {},
     "output_type": "display_data"
    }
   ],
   "source": [
    "df['price_t'].plot(figsize=(12, 8))"
   ]
  },
  {
   "cell_type": "code",
   "execution_count": 38,
   "metadata": {},
   "outputs": [
    {
     "data": {
      "text/plain": [
       "<AxesSubplot:xlabel='date'>"
      ]
     },
     "execution_count": 38,
     "metadata": {},
     "output_type": "execute_result"
    },
    {
     "data": {
      "image/png": "[encoded data removed]",
      "text/plain": [
       "<Figure size 1200x800 with 1 Axes>"
      ]
     },
     "metadata": {},
     "output_type": "display_data"
    }
   ],
   "source": [
    "df['returns'].plot(figsize=(12, 8))"
   ]
  },
  {
   "cell_type": "code",
   "execution_count": null,
   "metadata": {},
   "outputs": [],
   "source": [
    " "
   ]
  }
 ],
 "metadata": {
  "kernelspec": {
   "display_name": "base",
   "language": "python",
   "name": "python3"
  },
  "language_info": {
   "codemirror_mode": {
    "name": "ipython",
    "version": 3
   },
   "file_extension": ".py",
   "mimetype": "text/x-python",
   "name": "python",
   "nbconvert_exporter": "python",
   "pygments_lexer": "ipython3",
   "version": "3.9.12"
  }
 },
 "nbformat": 4,
 "nbformat_minor": 2
}
